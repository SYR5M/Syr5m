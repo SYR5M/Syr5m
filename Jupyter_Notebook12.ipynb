{
 "cells": [
  {
   "cell_type": "markdown",
   "id": "f966b47a-7d0e-40f3-a908-a99d756ae487",
   "metadata": {},
   "source": [
    "Add your code below following the instructions given in the course\n"
   ]
  },
  {
   "cell_type": "markdown",
   "id": "2d08e403-99c9-4be1-a830-5cc6379e07f6",
   "metadata": {},
   "source": [
    "My First Notebook DATA SCIENCE\n"
   ]
  },
  {
   "cell_type": "markdown",
   "id": "6706f713-ce16-4b05-b839-26901268421c",
   "metadata": {},
   "source": [
    "Hello this is an introduction\n",
    "This notebook demonstrates various data science concepts and exercises as part of the final project.\n"
   ]
  },
  {
   "cell_type": "markdown",
   "id": "242cbf0f-d969-420d-bec1-9112c1419a4b",
   "metadata": {},
   "source": [
    " Data Science Languages\n",
    "- Python\n",
    "- R\n",
    "- SQL\n",
    "- Julia\n",
    "- Java\n"
   ]
  },
  {
   "cell_type": "markdown",
   "id": "b332f41f-afbf-4659-b861-b177522fb450",
   "metadata": {},
   "source": [
    "Some data science libraries:\n",
    "Numpy\n",
    "Pandas\n",
    "SciPy"
   ]
  },
  {
   "cell_type": "markdown",
   "id": "8a9b0bde-1b4b-44d3-ba73-b1bf0a1d631f",
   "metadata": {},
   "source": [
    " Data Science Libraries\n",
    "- Pandas\n",
    "- NumPy\n",
    "- Matplotlib\n",
    "- Scikit-learn\n",
    "- TensorFlow\n"
   ]
  },
  {
   "cell_type": "markdown",
   "id": "0bbe50bd-dd4b-4bc1-a29c-0f09a9b0ce20",
   "metadata": {},
   "source": [
    " Data Science Tools\n",
    "\n",
    "| Tool           | Description                                       |\n",
    "|----------------|---------------------------------------------------|\n",
    "| Jupyter Notebook | Interactive computing environment              |\n",
    "| RStudio        | Integrated development environment for R         |\n",
    "| Apache Spark   | Cluster-computing framework for big data         |\n",
    "| TensorFlow     | Open-source library for machine learning         |\n"
   ]
  },
  {
   "cell_type": "markdown",
   "id": "b5f124b0-bc41-4303-ac16-a98535b124b9",
   "metadata": {},
   "source": [
    "## Arithmetic Expressions\n",
    "Below are examples of simple arithmetic expressions.\n"
   ]
  },
  {
   "cell_type": "code",
   "execution_count": 9,
   "id": "4bd0ec9a-5cd3-45d1-a602-d6b081c586d4",
   "metadata": {},
   "outputs": [
    {
     "data": {
      "text/plain": [
       "18"
      ]
     },
     "execution_count": 9,
     "metadata": {},
     "output_type": "execute_result"
    }
   ],
   "source": [
    "# Multiply and add two numbers\n",
    "a = 5\n",
    "b = 3\n",
    "result = a * b + b\n",
    "result\n"
   ]
  },
  {
   "cell_type": "code",
   "execution_count": 10,
   "id": "9df1afe7-ceac-40b8-8b1f-51b91be2b2ce",
   "metadata": {},
   "outputs": [
    {
     "data": {
      "text/plain": [
       "2.0"
      ]
     },
     "execution_count": 10,
     "metadata": {},
     "output_type": "execute_result"
    }
   ],
   "source": [
    "# Convert minutes to hours\n",
    "minutes = 120\n",
    "hours = minutes / 60\n",
    "hours\n"
   ]
  },
  {
   "cell_type": "markdown",
   "id": "a34f553d-09d1-4f34-bd0e-6907323179e1",
   "metadata": {},
   "source": [
    "## Objectives\n",
    "- Understand data science languages\n",
    "- Learn about data science libraries\n",
    "- Familiarize with data science tools\n",
    "- Practice arithmetic expressions in Python\n",
    "- Share the notebook via GitHub\n"
   ]
  },
  {
   "cell_type": "markdown",
   "id": "39e05f08-bbd6-4082-be59-88fb754198a6",
   "metadata": {},
   "source": [
    "## Author\n",
    "Mahmoud Khatib\n"
   ]
  },
  {
   "cell_type": "code",
   "execution_count": null,
   "id": "45591326-a388-46dd-9c65-04d0d0e505ce",
   "metadata": {},
   "outputs": [],
   "source": []
  }
 ],
 "metadata": {
  "kernelspec": {
   "display_name": "Python 3 (ipykernel)",
   "language": "python",
   "name": "python3"
  },
  "language_info": {
   "codemirror_mode": {
    "name": "ipython",
    "version": 3
   },
   "file_extension": ".py",
   "mimetype": "text/x-python",
   "name": "python",
   "nbconvert_exporter": "python",
   "pygments_lexer": "ipython3",
   "version": "3.11.9"
  }
 },
 "nbformat": 4,
 "nbformat_minor": 5
}
